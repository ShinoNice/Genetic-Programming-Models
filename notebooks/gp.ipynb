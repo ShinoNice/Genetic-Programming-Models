{
 "cells": [
  {
   "cell_type": "markdown",
   "metadata": {},
   "source": [
    "## Environment preparation\n",
    "\n",
    "### Imports"
   ]
  },
  {
   "cell_type": "code",
   "execution_count": 1,
   "metadata": {},
   "outputs": [],
   "source": [
    "import os\n",
    "import csv\n",
    "import torch\n",
    "import pandas as pd\n",
    "import matplotlib.pyplot as plt\n",
    "\n",
    "from gpolnel.utils.datasets import load_boston\n",
    "from torch.utils.data import TensorDataset, DataLoader\n",
    "\n",
    "from gpolnel.problems.inductive_programming import SML\n",
    "from gpolnel.utils.utils import train_test_split\n",
    "from gpolnel.utils.ffunctions import Ffunctions\n",
    "from gpolnel.utils.inductive_programming import function_map\n",
    "from gpolnel.algorithms.genetic_algorithm import GeneticAlgorithm\n",
    "from gpolnel.operators.initializers import grow, full, rhh, prm_grow, ERC, prm_full\n",
    "from gpolnel.operators.variators import swap_xo, prm_subtree_mtn, prm_point_mtn, prm_hoist_mtn\n",
    "from gpolnel.operators.selectors import prm_tournament, prm_roulette_wheel, prm_rank_selection, prm_rnd_selection, prm_double_tournament\n"
   ]
  },
  {
   "cell_type": "markdown",
   "metadata": {},
   "source": [
    "### Global settings"
   ]
  },
  {
   "cell_type": "code",
   "execution_count": 2,
   "metadata": {},
   "outputs": [],
   "source": [
    "seed = 19\n",
    "device = 'cuda' if torch.cuda.is_available() else 'cpu'\n",
    "#device = 'mps' if torch.backends.mps.is_available() else 'cpu'\n",
    "    "
   ]
  },
  {
   "cell_type": "markdown",
   "metadata": {},
   "source": [
    "### Data load"
   ]
  },
  {
   "cell_type": "code",
   "execution_count": 3,
   "metadata": {},
   "outputs": [],
   "source": [
    "# Defines parameters for the data usage\n",
    "shuffle, p_test, p_val, n_batches_pct = True, .3, .3, 1\n"
   ]
  },
  {
   "cell_type": "code",
   "execution_count": 5,
   "metadata": {},
   "outputs": [],
   "source": [
    "csv_file_path = './datamart/data_project_nel_final.csv'\n",
    "\n",
    "# Read the CSV file into a DataFrame\n",
    "dt = pd.read_csv(csv_file_path)\n",
    "X = torch.from_numpy(dt.values[:, :-1]).float().to(device)"
   ]
  },
  {
   "cell_type": "code",
   "execution_count": 6,
   "metadata": {},
   "outputs": [],
   "source": [
    "csv_file_path = './datamart/y_lactose.csv'\n",
    "\n",
    "y_lactose = pd.read_csv(csv_file_path)\n",
    "y = torch.from_numpy(y_lactose.values[:, -1]).float().to(device)"
   ]
  },
  {
   "cell_type": "code",
   "execution_count": 7,
   "metadata": {},
   "outputs": [
    {
     "name": "stdout",
     "output_type": "stream",
     "text": [
      "torch.Size([324, 12]) torch.Size([324])\n",
      "tensor([[ 2.5000,  2.7273,  2.0000, -0.5206, -1.3631, -0.5860,  0.7581, -0.5366,\n",
      "          0.8808,  0.0000,  0.0000, -0.4190],\n",
      "        [ 3.0000,  3.4545,  0.8657, -0.7277,  0.6837, -0.3605,  1.0324, -0.8866,\n",
      "          0.0796,  0.0000,  0.0000, -0.6626],\n",
      "        [ 2.0000,  2.6818,  0.0299,  0.3326,  0.0628,  0.4168, -0.0605, -0.6421,\n",
      "          0.1936,  0.0000,  0.1330, -0.5441]])\n",
      "tensor([4.9535, 4.9831, 4.8891])\n"
     ]
    }
   ],
   "source": [
    "print(X.shape, y.shape)\n",
    "print(X[:3])\n",
    "print(y[:3])"
   ]
  },
  {
   "cell_type": "code",
   "execution_count": 8,
   "metadata": {},
   "outputs": [
    {
     "name": "stdout",
     "output_type": "stream",
     "text": [
      "Batch size: 159\n",
      "Total batches: 1\n",
      "\n",
      "Train:\t159\n",
      "Val:\t68\n",
      "Test:\t97\n",
      "Total:\t324\n"
     ]
    }
   ],
   "source": [
    "# Data split\n",
    "\n",
    "# Train and test sets\n",
    "X_train, X_test, y_train, y_test = train_test_split(X, y, p_test=p_test, seed=seed)\n",
    "\n",
    "# Train and validation sets\n",
    "X_train, X_val, y_train, y_val = train_test_split(X_train, y_train, p_test=p_val, seed=seed)\n",
    "total_batches = 1\n",
    "batch_size = X_train.shape[0]\n",
    "print('Batch size: {}\\nTotal batches: {}\\n'.format(batch_size, total_batches))\n",
    "\n",
    "print('Train:\\t{}\\nVal:\\t{}\\nTest:\\t{}'.format(X_train.shape[0], X_val.shape[0], X_test.shape[0]))\n",
    "print('Total:\\t{}'.format(X_train.shape[0] + X_val.shape[0] + X_test.shape[0]))\n",
    "\n",
    "# Creates training and validatation data sets\n",
    "ds_train = TensorDataset(X_train, y_train)\n",
    "ds_val = TensorDataset(X_val, y_val)\n",
    "ds_test = TensorDataset(X_test, y_test)\n",
    "\n",
    "# Creates training and test data loaders\n",
    "dl_train = DataLoader(ds_train, batch_size, shuffle)\n",
    "dl_val = DataLoader(ds_val, batch_size, shuffle)\n",
    "dl_test = DataLoader(ds_test, batch_size, shuffle)"
   ]
  },
  {
   "cell_type": "markdown",
   "metadata": {},
   "source": [
    "## **GENETIC PROGRAMMING (GP)**"
   ]
  },
  {
   "cell_type": "markdown",
   "metadata": {},
   "source": [
    "## Grid search"
   ]
  },
  {
   "cell_type": "markdown",
   "metadata": {},
   "source": [
    "Create combinations for grid search"
   ]
  },
  {
   "cell_type": "code",
   "execution_count": 9,
   "metadata": {},
   "outputs": [],
   "source": [
    "from itertools import product\n",
    "import random\n",
    "from itertools import product, combinations\n",
    "\n",
    "# Set a seed for reproducibility\n",
    "random_seed = 19\n",
    "random.seed(random_seed)\n",
    "\n",
    "selected_function_combinations = [\n",
    "    (function_map['add'], function_map['sub'], function_map['mul'], function_map['div']),\n",
    "    (function_map['add'], function_map['sub'], function_map['mul'], function_map['div'], function_map['log']),\n",
    "    (function_map['add'], function_map['sub'], function_map['mul'], function_map['div'], function_map['exp'], function_map['tanh']),\n",
    "]\n",
    "\n",
    "constant_sets = [ERC(-1., 1.), ERC(-5., 5.), ERC(-10., 10.)]\n",
    "p_constants_values = [0.05, 0.1, 0.2]\n",
    "max_init_depth_values = [3, 5, 7]\n",
    "max_depth_values = [10, 15, 20]\n",
    "\n",
    "# Generate all combinations of the parameters\n",
    "sspace_combinations = list(product(selected_function_combinations, constant_sets, p_constants_values, max_init_depth_values, max_depth_values))\n",
    "\n",
    "initializers = [grow, full, rhh]  \n",
    "selectors = [prm_tournament, prm_roulette_wheel, prm_rank_selection, prm_rnd_selection, prm_double_tournament] \n",
    "crossovers = [swap_xo]\n",
    "mutations = [prm_hoist_mtn, prm_subtree_mtn, prm_hoist_mtn] \n",
    "ps = [50, 100, 250, 500]\n",
    "selection_pressure = [0.05, 0.1, 0.2]\n",
    "mutation_prob = [0.01, 0.05, 0.1]\n",
    "xo_prob = [0.7, 0.8, 0.9]\n",
    "has_elitism = [True, False]\n",
    "allow_reproduction = [True, False]\n",
    "\n",
    "# Generate all combinations of the genetic algorithm parameters\n",
    "ga_combinations = list(product(initializers, selectors, crossovers,mutations, ps, selection_pressure, mutation_prob, xo_prob, has_elitism, allow_reproduction))\n",
    "\n",
    "# Combine both sets of combinations for full testing\n",
    "all_combinations = [ga_params + sspace_params for ga_params, sspace_params in product(ga_combinations, sspace_combinations)]"
   ]
  },
  {
   "cell_type": "markdown",
   "metadata": {},
   "source": [
    "Choose 10 randomly as it would not be feasible to use all the combinations"
   ]
  },
  {
   "cell_type": "code",
   "execution_count": 10,
   "metadata": {},
   "outputs": [],
   "source": [
    "selected_combinations = random.sample(all_combinations, 10)"
   ]
  },
  {
   "cell_type": "markdown",
   "metadata": {},
   "source": [
    "Perform grid search"
   ]
  },
  {
   "cell_type": "code",
   "execution_count": 11,
   "metadata": {},
   "outputs": [],
   "source": [
    "best_sol = float('inf')\n",
    "best_params = {}\n",
    "\n",
    "def test_genetic_algorithm(fset, cset, p_constants, max_init_depth, max_depth, initializer, selector, crossover, mutator, ps, selection_pressure, mutation_prob, xo_prob, has_elitism, allow_reproduction):\n",
    "    global best_sol, best_params\n",
    "\n",
    "    sspace_sml = {\n",
    "    'n_dims': X.shape[1],\n",
    "    'function_set': fset, \n",
    "    'constant_set': cset,\n",
    "    'p_constants': p_constants,\n",
    "    'max_init_depth': max_init_depth,\n",
    "    'max_depth': max_depth, \n",
    "    'n_batches': total_batches,\n",
    "    'device': device\n",
    "    }\n",
    "\n",
    "    pi_sml = SML(\n",
    "    sspace=sspace_sml,\n",
    "    ffunction=Ffunctions('rmse'),\n",
    "    dl_train=dl_train, dl_test=dl_val,  # For the algorithm, the unseen is our validation!\n",
    "    n_jobs=8\n",
    "    )\n",
    "\n",
    "    if mutator==prm_subtree_mtn:\n",
    "        if initializer==grow:\n",
    "            mutator = prm_subtree_mtn(initializer=prm_grow(sspace_sml))\n",
    "        else:\n",
    "            mutator = prm_subtree_mtn(initializer=prm_full(sspace_sml))\n",
    "    elif mutator==prm_point_mtn:\n",
    "        mutator = prm_point_mtn(sspace=sspace_sml, prob=mutation_prob)\n",
    "    else:\n",
    "        mutator=mutator()\n",
    "        \n",
    "    if selector==prm_tournament:\n",
    "        selector = prm_tournament(pressure=selection_pressure)\n",
    "    elif selector==prm_double_tournament:\n",
    "        selector = prm_double_tournament(pressure1=selection_pressure, pressure2=selection_pressure)\n",
    "    else:\n",
    "        selector = selector()\n",
    "        \n",
    "    mheuristic = GeneticAlgorithm(\n",
    "        pi=pi_sml,\n",
    "        initializer=initializer,\n",
    "        selector=selector,\n",
    "        crossover=crossover,\n",
    "        mutator=mutator,\n",
    "        pop_size=ps,\n",
    "        p_m=mutation_prob,\n",
    "        p_c=xo_prob,\n",
    "        elitism=has_elitism,\n",
    "        reproduction=allow_reproduction,\n",
    "        device=device,\n",
    "        seed=seed\n",
    "    )\n",
    "\n",
    "    mheuristic._initialize()  # GP initialization\n",
    "\n",
    "\n",
    "    # Learning\n",
    "    n_iter = 50\n",
    "    mheuristic.solve(\n",
    "        n_iter, \n",
    "        test_elite=True\n",
    "    )\n",
    "    \n",
    "    current_sol = float(mheuristic.best_sol.test_fit.item())\n",
    "    \n",
    "    if current_sol < best_sol:\n",
    "        best_sol = current_sol\n",
    "        best_params = (\n",
    "            fset, cset, p_constants, max_init_depth, max_depth, initializer, selector, crossover, mutator, ps, selection_pressure, mutation_prob, xo_prob, has_elitism, allow_reproduction\n",
    "        )\n",
    "\n",
    "    return best_params, best_sol"
   ]
  },
  {
   "cell_type": "code",
   "execution_count": 12,
   "metadata": {},
   "outputs": [
    {
     "name": "stderr",
     "output_type": "stream",
     "text": [
      "Testing Combinations: 100%|████████████████████████████████████████████████████████████| 10/10 [05:59<00:00, 35.93s/it]"
     ]
    },
    {
     "name": "stdout",
     "output_type": "stream",
     "text": [
      "Best Parameters: ((add, sub, mul, div, log), <gpolnel.operators.initializers.ERC object at 0x00000262C0F58BD0>, 0.1, 3, 15, <function rhh at 0x00000262D10C4F40>, <function prm_double_tournament.<locals>.double_tournament at 0x000002628630E480>, <function swap_xo at 0x00000262D10C40E0>, <function prm_hoist_mtn.<locals>.hoist_mtn at 0x000002628630FB00>, 100, 0.05, 0.05, 0.8, True, True)\n",
      "Best Solution: 0.06274009495973587\n"
     ]
    },
    {
     "name": "stderr",
     "output_type": "stream",
     "text": [
      "\n"
     ]
    }
   ],
   "source": [
    "from tqdm import tqdm\n",
    "\n",
    "for combo in tqdm(selected_combinations, desc=\"Testing Combinations\"):\n",
    "    initializer, selector, crossover, mutator, ps, selection_pressure, mutation_prob, xo_prob, has_elitism, allow_reproduction, fset, cset, p_constants, max_init_depth, max_depth = combo\n",
    "    test_genetic_algorithm(fset=fset, cset=cset, p_constants=p_constants, max_init_depth=max_init_depth, max_depth=max_depth, initializer=initializer, \n",
    "                           selector=selector, crossover=crossover, mutator=mutator, ps=ps, selection_pressure=selection_pressure, mutation_prob=mutation_prob, xo_prob=xo_prob, has_elitism=has_elitism, allow_reproduction=allow_reproduction)\n",
    "print(f\"Best Parameters: {best_params}\")\n",
    "print(f\"Best Solution: {best_sol}\")"
   ]
  },
  {
   "cell_type": "markdown",
   "metadata": {},
   "source": [
    "Now that we have the best parameters, we use them to train the model and then evaluate the results on the test set"
   ]
  },
  {
   "cell_type": "code",
   "execution_count": 13,
   "metadata": {},
   "outputs": [],
   "source": [
    "fset, cset, p_constants, max_init_depth, max_depth, initializer, selector, crossover, mutator, ps, selection_pressure, mutation_prob, xo_prob, has_elitism, allow_reproduction = best_params"
   ]
  },
  {
   "cell_type": "code",
   "execution_count": 14,
   "metadata": {},
   "outputs": [
    {
     "data": {
      "text/plain": [
       "((add, sub, mul, div, log),\n",
       " <gpolnel.operators.initializers.ERC at 0x262c0f58bd0>,\n",
       " 0.1,\n",
       " 3,\n",
       " 15,\n",
       " <function gpolnel.operators.initializers.rhh(sspace, n_sols)>,\n",
       " <function gpolnel.operators.selectors.prm_double_tournament.<locals>.double_tournament(pop, min_criteria)>,\n",
       " <function gpolnel.operators.variators.swap_xo(p1, p2)>,\n",
       " <function gpolnel.operators.variators.prm_hoist_mtn.<locals>.hoist_mtn(repr_)>,\n",
       " 100,\n",
       " 0.05,\n",
       " 0.05,\n",
       " 0.8,\n",
       " True,\n",
       " True)"
      ]
     },
     "execution_count": 14,
     "metadata": {},
     "output_type": "execute_result"
    }
   ],
   "source": [
    "best_params"
   ]
  },
  {
   "cell_type": "code",
   "execution_count": 15,
   "metadata": {},
   "outputs": [
    {
     "name": "stdout",
     "output_type": "stream",
     "text": [
      "-------------------------------------------------------------------------------------------------------\n",
      "           |                    Best solution                      |            Population            |\n",
      "-------------------------------------------------------------------------------------------------------\n",
      "Generation | Length   Fitness          Test Fitness         Timing | AVG Fitness           STD Fitness\n",
      "-------------------------------------------------------------------------------------------------------\n",
      "0          | 13       3.06809          3.36578               0.202 | 21.7816                   47.5191\n",
      "1          | 1        1.15091          1.16279               0.270 | 4.73247                   1.38224\n",
      "2          | 4        0.201082         0.189058              0.307 | 4.03028                   1.37358\n",
      "3          | 5        0.162785         0.173082              0.286 | 3.54142                   2.01553\n",
      "4          | 5        0.162785         0.173082              0.291 | 2.66621                   1.94493\n",
      "5          | 12       0.145244         0.133633              0.298 | 3.20438                   10.7059\n",
      "6          | 12       0.145244         0.133633              0.281 | 1.67683                    2.3682\n",
      "7          | 12       0.145244         0.133633              0.271 | 3.24644                   9.54594\n",
      "8          | 12       0.145244         0.133633              0.284 | 1.70198                   1.96835\n",
      "9          | 12       0.145244         0.133633              0.274 | 1.48066                   2.31507\n",
      "10         | 12       0.145244         0.133633              0.287 | 1.81143                   2.88377\n",
      "11         | 24       0.0917           0.0821143             0.284 | 2.40398                   6.60541\n",
      "12         | 24       0.0917           0.0821142             0.318 | 1.29699                   1.41904\n",
      "13         | 24       0.0917           0.0821143             0.293 | 1.13983                   1.34842\n",
      "14         | 24       0.0917           0.0821143             0.292 | 1.72398                   7.13038\n",
      "15         | 24       0.0917           0.0821143             0.291 | 2.45306                   6.85504\n",
      "16         | 25       0.0656947        0.0658125             0.291 | 2.11442                   6.89095\n",
      "17         | 25       0.0656947        0.0658125             0.278 | 3.22491                   9.41791\n",
      "18         | 25       0.0656947        0.0658125             0.290 | 4.12657                   12.6641\n",
      "19         | 25       0.0656947        0.0658125             0.300 | 3.37022                   9.29261\n",
      "20         | 25       0.0656947        0.0658125             0.303 | 9.22337e+16           9.22337e+17\n",
      "21         | 25       0.0656947        0.0658125             0.313 | 2.10757                   7.42204\n",
      "22         | 45       0.0654752        0.064918              0.317 | 0.943786                  2.08019\n",
      "23         | 45       0.0654752        0.064918              0.329 | 2.76701e+17           1.58132e+18\n",
      "24         | 45       0.0654752        0.064918              0.413 | 2.76701e+17           1.58132e+18\n",
      "25         | 45       0.0654752        0.064918              0.403 | 1.17376                   5.66867\n",
      "26         | 45       0.0654752        0.064918              0.342 | 3.68935e+17           1.81651e+18\n",
      "27         | 45       0.0654752        0.064918              0.350 | 9.22337e+17           2.78095e+18\n",
      "28         | 45       0.0654752        0.064918              0.355 | 1.56797e+18           3.48206e+18\n",
      "29         | 44       0.0654642        0.0642001             0.357 | 1.19904e+18           3.11748e+18\n",
      "30         | 44       0.0654642        0.0642001             0.359 | 1.56797e+18           3.48206e+18\n",
      "31         | 44       0.0654642        0.0642001             0.373 | 1.84467e+18           3.70794e+18\n",
      "32         | 44       0.0654642        0.0642001             0.366 | 1.1068e+18            3.01234e+18\n",
      "33         | 44       0.0654642        0.0642001             0.348 | 1.84467e+18           3.70794e+18\n",
      "34         | 44       0.0654642        0.0642001             0.374 | 1.56797e+18           3.48206e+18\n",
      "35         | 44       0.0654642        0.0642001             0.362 | 1.29127e+18           3.21651e+18\n",
      "36         | 44       0.0654642        0.0642001             0.347 | 1.56797e+18           3.48206e+18\n",
      "37         | 44       0.0654642        0.0642001             0.356 | 1.56797e+18           3.48206e+18\n",
      "38         | 37       0.0654438        0.0645926             0.345 | 9.22337e+17           2.78095e+18\n",
      "39         | 37       0.0654438        0.0645926             0.375 | 1.84467e+18           3.70794e+18\n",
      "40         | 37       0.0654438        0.0645926             0.367 | 1.66021e+18           3.56136e+18\n",
      "41         | 37       0.0654438        0.0645926             0.358 | 1.56797e+18           3.48206e+18\n",
      "42         | 37       0.0654438        0.0645926             0.364 | 1.19904e+18           3.11748e+18\n",
      "43         | 37       0.0654438        0.0645926             0.371 | 1.75244e+18           3.63657e+18\n",
      "44         | 37       0.0654438        0.0645926             0.357 | 1.66021e+18           3.56136e+18\n",
      "45         | 37       0.0654438        0.0645926             0.361 | 1.84467e+18           3.70794e+18\n",
      "46         | 37       0.0654438        0.0645926             0.367 | 1.47574e+18           3.39838e+18\n",
      "47         | 37       0.0654438        0.0645926             0.356 | 1.47574e+18           3.39838e+18\n",
      "48         | 37       0.0654438        0.0645926             0.359 | 1.47574e+18           3.39838e+18\n",
      "49         | 37       0.0654438        0.0645926             0.376 | 1.29127e+18           3.21651e+18\n",
      "50         | 37       0.0654438        0.0645926             0.393 | 1.93691e+18           3.77568e+18\n"
     ]
    }
   ],
   "source": [
    "sspace_sml = {\n",
    "'n_dims': X.shape[1],\n",
    "'function_set': fset, \n",
    "'constant_set': cset,\n",
    "'p_constants': p_constants,\n",
    "'max_init_depth': max_init_depth,\n",
    "'max_depth': max_depth, \n",
    "'n_batches': total_batches,\n",
    "'device': device\n",
    "}\n",
    "\n",
    "pi_sml = SML(\n",
    "sspace=sspace_sml,\n",
    "ffunction=Ffunctions('rmse'),\n",
    "dl_train=dl_train, dl_test=dl_test,  \n",
    "n_jobs=8\n",
    ")\n",
    "    \n",
    "mheuristic = GeneticAlgorithm(\n",
    "    pi=pi_sml,\n",
    "    initializer=initializer,\n",
    "    selector=selector,\n",
    "    crossover=crossover,\n",
    "    mutator=mutator,\n",
    "    pop_size=ps,\n",
    "    p_m=mutation_prob,\n",
    "    p_c=xo_prob,\n",
    "    elitism=has_elitism,\n",
    "    reproduction=allow_reproduction,\n",
    "    device=device,\n",
    "    seed=seed\n",
    ")\n",
    "\n",
    "mheuristic._initialize()  # GP initialization\n",
    "\n",
    "\n",
    "\n",
    "# Log settings\n",
    "file_dir = './log_gp/'\n",
    "file_name = 'intro.log'\n",
    "log_path = file_dir + file_name\n",
    "if os.path.exists(file_dir + file_name):\n",
    "    os.remove(file_dir + file_name)\n",
    "if not os.path.exists(file_dir):\n",
    "    os.makedirs(file_dir)\n",
    "\n",
    "# Learning\n",
    "n_iter = 50\n",
    "mheuristic.solve(\n",
    "    n_iter,\n",
    "    verbose=3, log=3, log_path=log_path,\n",
    "    test_elite=True\n",
    ")\n"
   ]
  },
  {
   "cell_type": "markdown",
   "metadata": {},
   "source": [
    "GP Evolution"
   ]
  },
  {
   "cell_type": "code",
   "execution_count": 17,
   "metadata": {},
   "outputs": [],
   "source": [
    "# Open log file\n",
    "rows = []\n",
    "with open(log_path, 'r') as file:\n",
    "    # Create a CSV reader object\n",
    "    csv_reader = csv.reader(file)\n",
    "    # Iterate over each row in the CSV file\n",
    "    for row in csv_reader:\n",
    "        # Process each row (each row is a list of values)\n",
    "        rows.append(row)\n",
    "\n",
    "# Fitness history\n",
    "history_fits = [float(row[7].split('(')[1].split(')')[0]) for row in rows]\n",
    "\n",
    "# Val fitness history\n",
    "history_val_fits = [float(row[8].split('(')[1].split(')')[0]) for row in rows]\n",
    "\n",
    "# Solution size history\n",
    "history_sizes = [int(row[6]) for row in rows]\n",
    "\n",
    "# Runtime\n",
    "history_timing = [float(row[5]) for row in rows]"
   ]
  },
  {
   "cell_type": "code",
   "execution_count": 18,
   "metadata": {},
   "outputs": [
    {
     "data": {
      "image/png": "[encoded data removed]",
      "text/plain": [
       "<Figure size 1200x600 with 1 Axes>"
      ]
     },
     "metadata": {},
     "output_type": "display_data"
    },
    {
     "name": "stdout",
     "output_type": "stream",
     "text": [
      "Best solution RMSE fitness: 0.0654 train, 0.0646 test.\n",
      "\n"
     ]
    }
   ],
   "source": [
    "plt.figure(figsize=(12, 6))\n",
    "\n",
    "plt.plot(history_fits, label='Train')\n",
    "plt.plot(history_val_fits, label='Test')\n",
    "plt.title('Fitness evolution')\n",
    "plt.xlabel('Generation')\n",
    "plt.ylabel('RMSE')\n",
    "plt.ylim(bottom=0)\n",
    "plt.legend()\n",
    "plt.show()\n",
    "\n",
    "print('Best solution RMSE fitness: {:.4f} train, {:.4f} test.\\n'.format(mheuristic.best_sol.fit.item(), mheuristic.best_sol.test_fit.item()))\n"
   ]
  },
  {
   "cell_type": "code",
   "execution_count": 19,
   "metadata": {},
   "outputs": [
    {
     "data": {
      "image/png": "[encoded data removed]",
      "text/plain": [
       "<Figure size 1200x600 with 1 Axes>"
      ]
     },
     "metadata": {},
     "output_type": "display_data"
    }
   ],
   "source": [
    "plt.figure(figsize=(12, 6))\n",
    "\n",
    "plt.plot(history_sizes)\n",
    "plt.title('Solution size evolution')\n",
    "plt.xlabel('Generation')\n",
    "plt.ylabel('Size')\n",
    "plt.ylim(bottom=0)\n",
    "plt.show()\n"
   ]
  },
  {
   "cell_type": "code",
   "execution_count": 20,
   "metadata": {},
   "outputs": [
    {
     "data": {
      "image/png": "[encoded data removed]",
      "text/plain": [
       "<Figure size 1200x600 with 1 Axes>"
      ]
     },
     "metadata": {},
     "output_type": "display_data"
    },
    {
     "name": "stdout",
     "output_type": "stream",
     "text": [
      "Total time: 0.28 minutes.\n",
      "\n"
     ]
    }
   ],
   "source": [
    "plt.figure(figsize=(12, 6))\n",
    "\n",
    "plt.plot(history_timing)\n",
    "plt.title('Running time evolution')\n",
    "plt.xlabel('Generation')\n",
    "plt.ylabel('Seconds')\n",
    "plt.ylim(bottom=0)\n",
    "plt.show()\n",
    "\n",
    "print('Total time: {:.2f} minutes.\\n'.format(sum(history_timing)/60.))\n"
   ]
  }
 ],
 "metadata": {
  "kernelspec": {
   "display_name": "Python 3 (ipykernel)",
   "language": "python",
   "name": "python3"
  },
  "language_info": {
   "codemirror_mode": {
    "name": "ipython",
    "version": 3
   },
   "file_extension": ".py",
   "mimetype": "text/x-python",
   "name": "python",
   "nbconvert_exporter": "python",
   "pygments_lexer": "ipython3",
   "version": "3.11.7"
  }
 },
 "nbformat": 4,
 "nbformat_minor": 4
}
