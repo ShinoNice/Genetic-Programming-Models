{
 "cells": [
  {
   "cell_type": "markdown",
   "metadata": {},
   "source": [
    "## Environment preparation\n",
    "\n",
    "### Imports"
   ]
  },
  {
   "cell_type": "code",
   "execution_count": 1,
   "metadata": {},
   "outputs": [],
   "source": [
    "import os\n",
    "import csv\n",
    "import torch\n",
    "import pandas as pd\n",
    "import matplotlib.pyplot as plt\n",
    "\n",
    "from gpolnel.utils.datasets import load_boston\n",
    "from torch.utils.data import TensorDataset, DataLoader\n",
    "\n",
    "from gpolnel.problems.inductive_programming import SML\n",
    "from gpolnel.problems.neuroevolution import SMLNN\n",
    "from gpolnel.utils.utils import train_test_split\n",
    "from gpolnel.utils.ffunctions import Ffunctions\n",
    "from gpolnel.utils.inductive_programming import function_map\n",
    "from gpolnel.algorithms.genetic_algorithm import GeneticAlgorithm\n",
    "from gpolnel.operators.initializers import grow, full, rhh, prm_grow, ERC, prm_full, nn_init\n",
    "from gpolnel.operators.variators import swap_xo, prm_subtree_mtn, prm_point_mtn, prm_hoist_mtn, nn_xo, prm_nn_mtn\n",
    "from gpolnel.operators.selectors import prm_tournament, prm_roulette_wheel, prm_rank_selection, prm_rnd_selection, prm_double_tournament\n"
   ]
  },
  {
   "cell_type": "markdown",
   "metadata": {},
   "source": [
    "### Global settings"
   ]
  },
  {
   "cell_type": "code",
   "execution_count": 2,
   "metadata": {},
   "outputs": [],
   "source": [
    "seed = 19\n",
    "device = 'cuda' if torch.cuda.is_available() else 'cpu'\n",
    "#device = 'mps' if torch.backends.mps.is_available() else 'cpu'\n",
    "    "
   ]
  },
  {
   "cell_type": "markdown",
   "metadata": {},
   "source": [
    "### Data load"
   ]
  },
  {
   "cell_type": "code",
   "execution_count": 3,
   "metadata": {},
   "outputs": [],
   "source": [
    "# Defines parameters for the data usage\n",
    "shuffle, p_test, p_val, n_batches_pct = True, .3, .3, 1\n"
   ]
  },
  {
   "cell_type": "code",
   "execution_count": 4,
   "metadata": {},
   "outputs": [],
   "source": [
    "csv_file_path = '../datamart/data_project_nel_final.csv'\n",
    "\n",
    "# Read the CSV file into a DataFrame\n",
    "dt = pd.read_csv(csv_file_path)\n",
    "X = torch.from_numpy(dt.values[:, :-1]).float().to(device)"
   ]
  },
  {
   "cell_type": "code",
   "execution_count": 5,
   "metadata": {},
   "outputs": [],
   "source": [
    "csv_file_path = '../datamart/y_lactose.csv'\n",
    "\n",
    "y_lactose = pd.read_csv(csv_file_path)\n",
    "y = torch.from_numpy(y_lactose.values[:, -1]).float().to(device)"
   ]
  },
  {
   "cell_type": "code",
   "execution_count": 6,
   "metadata": {},
   "outputs": [
    {
     "name": "stdout",
     "output_type": "stream",
     "text": [
      "torch.Size([324, 11]) torch.Size([324])\n",
      "tensor([[ 2.5000,  2.0000, -0.5206, -1.3631, -0.5860,  0.7581, -0.5366,  0.8808,\n",
      "          0.0000,  0.0000, -0.4190],\n",
      "        [ 3.0000,  0.8657, -0.7277,  0.6837, -0.3605,  1.0324, -0.8866,  0.0796,\n",
      "          0.0000,  0.0000, -0.6626],\n",
      "        [ 2.0000,  0.0299,  0.3326,  0.0628,  0.4168, -0.0605, -0.6421,  0.1936,\n",
      "          0.0000,  0.1330, -0.5441]], device='cuda:0')\n",
      "tensor([4.9535, 4.9831, 4.8891], device='cuda:0')\n"
     ]
    }
   ],
   "source": [
    "print(X.shape, y.shape)\n",
    "print(X[:3])\n",
    "print(y[:3])"
   ]
  },
  {
   "cell_type": "code",
   "execution_count": 7,
   "metadata": {},
   "outputs": [
    {
     "name": "stdout",
     "output_type": "stream",
     "text": [
      "Batch size: 159\n",
      "Total batches: 1\n",
      "\n",
      "Train:\t159\n",
      "Val:\t68\n",
      "Test:\t97\n",
      "Total:\t324\n"
     ]
    }
   ],
   "source": [
    "# Data split\n",
    "\n",
    "# Train and test sets\n",
    "X_train, X_test, y_train, y_test = train_test_split(X, y, p_test=p_test, seed=seed)\n",
    "\n",
    "# Train and validation sets\n",
    "X_train, X_val, y_train, y_val = train_test_split(X_train, y_train, p_test=p_val, seed=seed)\n",
    "total_batches = 1\n",
    "batch_size = X_train.shape[0]\n",
    "print('Batch size: {}\\nTotal batches: {}\\n'.format(batch_size, total_batches))\n",
    "\n",
    "print('Train:\\t{}\\nVal:\\t{}\\nTest:\\t{}'.format(X_train.shape[0], X_val.shape[0], X_test.shape[0]))\n",
    "print('Total:\\t{}'.format(X_train.shape[0] + X_val.shape[0] + X_test.shape[0]))\n",
    "\n",
    "# Creates training and validatation data sets\n",
    "ds_train = TensorDataset(X_train, y_train)\n",
    "ds_val = TensorDataset(X_val, y_val)\n",
    "ds_test = TensorDataset(X_test, y_test)\n",
    "\n",
    "# Creates training and test data loaders\n",
    "dl_train = DataLoader(ds_train, batch_size, shuffle)\n",
    "dl_val = DataLoader(ds_val, batch_size, shuffle)\n",
    "dl_test = DataLoader(ds_test, batch_size, shuffle)"
   ]
  },
  {
   "cell_type": "markdown",
   "metadata": {},
   "source": [
    "## Grid search"
   ]
  },
  {
   "cell_type": "markdown",
   "metadata": {},
   "source": [
    "Create combinations for grid search"
   ]
  },
  {
   "cell_type": "code",
   "execution_count": 8,
   "metadata": {},
   "outputs": [],
   "source": [
    "import itertools\n",
    "import torch\n",
    "\n",
    "# Define ranges for grid search for neural network parameters\n",
    "init_factor_list = [0.01, 0.1]\n",
    "n_hidden_neurons_list = [[4, 5], [8, 8], [16, 16], [32, 32]]\n",
    "activation_list = [\n",
    "    [torch.relu, torch.relu, None], \n",
    "    [torch.sigmoid, torch.sigmoid, None],\n",
    "    [torch.tanh, torch.tanh, None]\n",
    "]\n",
    "\n",
    "selectors = [prm_tournament, prm_roulette_wheel, prm_rank_selection, prm_rnd_selection] \n",
    "\n",
    "# Define ranges for grid search for genetic algorithm parameters\n",
    "ps_list = [100, 250, 500]\n",
    "mutation_step_list = [0.1, 0.25, 0.5]\n",
    "mutation_prob_list = [0.1, 0.5, 0.9]\n",
    "xo_prob_list = [0.05, 0.1, 0.2]\n",
    "selection_pressure_list = [0.05, 0.07, 0.1]\n",
    "has_elitism_list = [True, False]\n",
    "allow_reproduction_list = [True, False]\n",
    "\n",
    "\n",
    "\n",
    "# Create combinations\n",
    "combinations = list(itertools.product(\n",
    "    init_factor_list,\n",
    "    n_hidden_neurons_list,\n",
    "    activation_list,\n",
    "    selectors,\n",
    "    ps_list,\n",
    "    mutation_step_list,\n",
    "    mutation_prob_list,\n",
    "    xo_prob_list,\n",
    "    selection_pressure_list,\n",
    "    has_elitism_list,\n",
    "    allow_reproduction_list\n",
    "))\n"
   ]
  },
  {
   "cell_type": "markdown",
   "metadata": {},
   "source": [
    "Choose 10 randomly as it would not be feasible to use all the combinations"
   ]
  },
  {
   "cell_type": "code",
   "execution_count": 9,
   "metadata": {},
   "outputs": [],
   "source": [
    "import random\n",
    "random.seed(11)\n",
    "\n",
    "selected_combinations = random.sample(combinations, 10)"
   ]
  },
  {
   "cell_type": "markdown",
   "metadata": {},
   "source": [
    "Perform grid search"
   ]
  },
  {
   "cell_type": "code",
   "execution_count": 10,
   "metadata": {},
   "outputs": [],
   "source": [
    "best_sol = float('inf')\n",
    "best_params = {}\n",
    "\n",
    "\n",
    "def test_genetic_algorithm(init_factor, n_hidden_neurons, activation, selector, ps, mutation_step, mutation_prob, xo_prob, selection_pressure, has_elitism, allow_reproduction):\n",
    "    global best_sol, best_params\n",
    "    \n",
    "    sspace_nn = {\n",
    "    'input_shape': X.shape[1],\n",
    "    #\n",
    "    # NN specifications\n",
    "    #\n",
    "    'init_factor': init_factor,\n",
    "    'n_hidden_neurons': n_hidden_neurons,\n",
    "    'activation': activation,\n",
    "    'n_output': 1,\n",
    "    #\n",
    "    #\n",
    "    #\n",
    "    'n_batches': total_batches,\n",
    "    'device': device\n",
    "}\n",
    "\n",
    "    pi_sml = SMLNN(\n",
    "    sspace=sspace_nn,\n",
    "    ffunction=Ffunctions('rmse'),\n",
    "    dl_train=dl_train, dl_test=dl_val,  # For the algorithm, the unseen is our validation!\n",
    "    n_jobs=8\n",
    ")\n",
    "    if selector==prm_tournament:\n",
    "        selector = prm_tournament(pressure=selection_pressure)\n",
    "    elif selector==prm_double_tournament:\n",
    "        selector = prm_double_tournament(pressure1=selection_pressure, pressure2=selection_pressure)\n",
    "    else:\n",
    "        selector = selector()\n",
    "        \n",
    "    mheuristic = GeneticAlgorithm(\n",
    "    pi=pi_sml,\n",
    "    initializer=nn_init,\n",
    "    selector=selector,\n",
    "    pop_size=ps,\n",
    "    p_m=mutation_prob,\n",
    "    p_c=xo_prob,\n",
    "    elitism=has_elitism,\n",
    "    reproduction=allow_reproduction,  # False = or xo or mutation\n",
    "    device=device,\n",
    "    seed=seed,\n",
    "    #\n",
    "    # As in the example of using the traditional GSGP with GPOL, for Neuroevolution of the NN hyperparameters,\n",
    "    # the algorithm is a GA object, and we specify the specific XO and Mutation operators.\n",
    "    # In this case, however, to handle with NNs.\n",
    "    #\n",
    "    crossover=nn_xo,\n",
    "    mutator=prm_nn_mtn(ms=mutation_step, sspace=sspace_nn)\n",
    ")\n",
    "\n",
    "    mheuristic._initialize()  # GP initialization\n",
    "\n",
    "\n",
    "    # Learning\n",
    "    n_iter = 50\n",
    "    mheuristic.solve(\n",
    "        n_iter,\n",
    "        test_elite=True\n",
    "    )\n",
    "    \n",
    "    current_sol = float(mheuristic.best_sol.test_fit.item())\n",
    "    \n",
    "    if current_sol < best_sol:\n",
    "        best_sol = current_sol\n",
    "        best_params = (\n",
    "            init_factor, n_hidden_neurons, activation, selector, ps, mutation_step, mutation_prob, xo_prob, selection_pressure, has_elitism, allow_reproduction\n",
    "        )\n",
    "\n",
    "    return best_params, best_sol"
   ]
  },
  {
   "cell_type": "code",
   "execution_count": 11,
   "metadata": {},
   "outputs": [
    {
     "name": "stderr",
     "output_type": "stream",
     "text": [
      "Testing Combinations: 100%|██████████| 10/10 [02:17<00:00, 13.70s/it]"
     ]
    },
    {
     "name": "stdout",
     "output_type": "stream",
     "text": [
      "Best Parameters: (0.1, [8, 8], [<built-in method tanh of type object at 0x00007FFC741B49E0>, <built-in method tanh of type object at 0x00007FFC741B49E0>, None], <function prm_tournament.<locals>.tournament at 0x0000024D55571300>, 250, 0.25, 0.1, 0.2, 0.1, False, False)\n",
      "Best Solution: 0.06721422076225281\n"
     ]
    },
    {
     "name": "stderr",
     "output_type": "stream",
     "text": [
      "\n"
     ]
    }
   ],
   "source": [
    "from tqdm import tqdm\n",
    "\n",
    "for combo in tqdm(selected_combinations, desc=\"Testing Combinations\"):\n",
    "    init_factor, n_hidden_neurons, activation, selector, ps, mutation_step, mutation_prob, xo_prob, selection_pressure, has_elitism, allow_reproduction = combo\n",
    "    test_genetic_algorithm(init_factor, n_hidden_neurons, activation, selector, ps, mutation_step, mutation_prob, xo_prob, selection_pressure, has_elitism, allow_reproduction)\n",
    "    \n",
    "print(f\"Best Parameters: {best_params}\")\n",
    "print(f\"Best Solution: {best_sol}\")"
   ]
  },
  {
   "cell_type": "markdown",
   "metadata": {},
   "source": [
    "Now that we have the best parameters, we use them to train the model and then evaluate the results on the test set"
   ]
  },
  {
   "cell_type": "code",
   "execution_count": 12,
   "metadata": {},
   "outputs": [],
   "source": [
    "init_factor, n_hidden_neurons, activation, selector, ps, mutation_step, mutation_prob, xo_prob, selection_pressure, has_elitism, allow_reproduction = best_params"
   ]
  },
  {
   "cell_type": "code",
   "execution_count": 13,
   "metadata": {},
   "outputs": [
    {
     "data": {
      "text/plain": [
       "(0.1,\n",
       " [8, 8],\n",
       " [<function torch._VariableFunctionsClass.tanh>,\n",
       "  <function torch._VariableFunctionsClass.tanh>,\n",
       "  None],\n",
       " <function gpolnel.operators.selectors.prm_tournament.<locals>.tournament(pop, min_)>,\n",
       " 250,\n",
       " 0.25,\n",
       " 0.1,\n",
       " 0.2,\n",
       " 0.1,\n",
       " False,\n",
       " False)"
      ]
     },
     "execution_count": 13,
     "metadata": {},
     "output_type": "execute_result"
    }
   ],
   "source": [
    "best_params"
   ]
  },
  {
   "cell_type": "code",
   "execution_count": 14,
   "metadata": {},
   "outputs": [
    {
     "name": "stdout",
     "output_type": "stream",
     "text": [
      "-------------------------------------------------------------------------------------------------------\n",
      "           |                    Best solution                      |            Population            |\n",
      "-------------------------------------------------------------------------------------------------------\n",
      "Generation | Length   Fitness          Test Fitness         Timing | AVG Fitness           STD Fitness\n",
      "-------------------------------------------------------------------------------------------------------\n",
      "0          | 2        2.45053          2.4616                0.099 | 4.92557                   1.02276\n",
      "1          | 2        1.91713          1.92631               0.245 | 3.10021                  0.513663\n",
      "2          | 2        1.41033          1.3969                0.238 | 2.19834                  0.340088\n",
      "3          | 2        0.428597         0.434496              0.233 | 1.6296                   0.364844\n",
      "4          | 2        0.142311         0.126922              0.235 | 1.04071                  0.511562\n",
      "5          | 2        0.126747         0.124545              0.233 | 0.496277                 0.293349\n",
      "6          | 2        0.0895679        0.0907463             0.227 | 0.37345                  0.204233\n",
      "7          | 2        0.0962968        0.113554              0.226 | 0.367807                 0.200621\n",
      "8          | 2        0.0905161        0.0930844             0.231 | 0.380296                 0.183183\n",
      "9          | 2        0.0902957        0.0974019             0.236 | 0.343152                 0.173954\n",
      "10         | 2        0.0814549        0.0913118             0.235 | 0.345679                 0.189391\n",
      "11         | 2        0.0849736        0.108817              0.228 | 0.344655                 0.202335\n",
      "12         | 2        0.0740319        0.0730674             0.229 | 0.325916                 0.181569\n",
      "13         | 2        0.0754153        0.0751677             0.227 | 0.325694                 0.188877\n",
      "14         | 2        0.0846636        0.0826226             0.234 | 0.335758                 0.178643\n",
      "15         | 2        0.0888832        0.117247              0.231 | 0.319038                 0.183962\n",
      "16         | 2        0.0921962        0.0754504             0.227 | 0.334957                 0.170965\n",
      "17         | 2        0.0829933        0.0885414             0.236 | 0.341218                 0.194581\n",
      "18         | 2        0.085592         0.0923084             0.232 | 0.356969                 0.207758\n",
      "19         | 2        0.0856248        0.079353              0.223 | 0.346088                 0.195886\n",
      "20         | 2        0.0840904        0.0873099             0.229 | 0.330562                 0.180429\n",
      "21         | 2        0.0956001        0.0847644             0.225 | 0.327446                 0.183279\n",
      "22         | 2        0.074923         0.0716675             0.228 | 0.321418                 0.185436\n",
      "23         | 2        0.0706709        0.0754219             0.223 | 0.317282                 0.187837\n",
      "24         | 2        0.0696402        0.0781309             0.230 | 0.325465                 0.203954\n",
      "25         | 2        0.0721221        0.0791581             0.229 | 0.319269                 0.185399\n",
      "26         | 2        0.0661478        0.0767657             0.234 | 0.309901                 0.194693\n",
      "27         | 2        0.0658837        0.0783522             0.228 | 0.295713                 0.196378\n",
      "28         | 2        0.0638837        0.0728                0.227 | 0.297281                 0.225648\n",
      "29         | 2        0.0615925        0.0731999             0.233 | 0.261368                   0.1961\n",
      "30         | 2        0.0615925        0.0731999             0.233 | 0.257887                 0.186675\n",
      "31         | 2        0.0615925        0.0731999             0.236 | 0.24082                  0.181373\n",
      "32         | 2        0.0611795        0.0713847             0.310 | 0.268849                 0.214597\n",
      "33         | 2        0.0611795        0.0713847             0.226 | 0.258892                 0.180692\n",
      "34         | 2        0.0610552        0.0723947             0.226 | 0.279214                 0.214444\n",
      "35         | 2        0.0610552        0.0723947             0.231 | 0.267451                 0.184145\n",
      "36         | 2        0.0610552        0.0723947             0.221 | 0.236924                 0.176727\n",
      "37         | 2        0.0610552        0.0723947             0.228 | 0.285465                 0.207138\n",
      "38         | 2        0.0610552        0.0723947             0.227 | 0.29078                  0.224358\n",
      "39         | 2        0.0610552        0.0723947             0.233 | 0.248205                 0.191439\n",
      "40         | 2        0.0610552        0.0723947             0.235 | 0.292956                 0.217498\n",
      "41         | 2        0.0610552        0.0723947             0.226 | 0.261132                 0.211764\n",
      "42         | 2        0.0610552        0.0723947             0.227 | 0.275761                  0.22253\n",
      "43         | 2        0.0610552        0.0723947             0.223 | 0.258451                 0.221961\n",
      "44         | 2        0.0610552        0.0723947             0.230 | 0.249407                 0.202166\n",
      "45         | 2        0.0610552        0.0723947             0.241 | 0.275014                 0.219984\n",
      "46         | 2        0.0610552        0.0723947             0.223 | 0.282196                 0.215583\n",
      "47         | 2        0.0610552        0.0723947             0.240 | 0.26651                   0.20677\n",
      "48         | 2        0.0610552        0.0723947             0.222 | 0.266893                 0.209283\n",
      "49         | 2        0.0610552        0.0723947             0.225 | 0.284037                 0.203621\n",
      "50         | 2        0.0610552        0.0723947             0.238 | 0.27861                  0.201334\n"
     ]
    }
   ],
   "source": [
    "sspace_nn = {\n",
    "'input_shape': X.shape[1],\n",
    "#\n",
    "# NN specifications\n",
    "#\n",
    "'init_factor': init_factor,\n",
    "'n_hidden_neurons': n_hidden_neurons,\n",
    "'activation': activation,\n",
    "'n_output': 1,\n",
    "#\n",
    "#\n",
    "#\n",
    "'n_batches': total_batches,\n",
    "'device': device\n",
    "}\n",
    "\n",
    "pi_sml = SMLNN(\n",
    "sspace=sspace_nn,\n",
    "ffunction=Ffunctions('rmse'),\n",
    "dl_train=dl_train, dl_test=dl_test,  # For the algorithm, the unseen is our validation!\n",
    "n_jobs=8\n",
    ")\n",
    "\n",
    "\n",
    "mheuristic = GeneticAlgorithm(\n",
    "pi=pi_sml,\n",
    "initializer=nn_init,\n",
    "selector=selector,\n",
    "pop_size=ps,\n",
    "p_m=mutation_prob,\n",
    "p_c=xo_prob,\n",
    "elitism=has_elitism,\n",
    "reproduction=allow_reproduction,  # False = or xo or mutation\n",
    "device=device,\n",
    "seed=seed,\n",
    "#\n",
    "# As in the example of using the traditional GSGP with GPOL, for Neuroevolution of the NN hyperparameters,\n",
    "# the algorithm is a GA object, and we specify the specific XO and Mutation operators.\n",
    "# In this case, however, to handle with NNs.\n",
    "#\n",
    "crossover=nn_xo,\n",
    "mutator=prm_nn_mtn(ms=mutation_step, sspace=sspace_nn)\n",
    ")\n",
    "\n",
    "mheuristic._initialize()  # GP initialization\n",
    "\n",
    "\n",
    "# Log settings\n",
    "file_dir = './log_ne_gpol/'\n",
    "file_name = 'intro_nn.log'\n",
    "log_path = file_dir + file_name\n",
    "if os.path.exists(file_dir + file_name):\n",
    "    os.remove(file_dir + file_name)\n",
    "if not os.path.exists(file_dir):\n",
    "    os.makedirs(file_dir)\n",
    "\n",
    "\n",
    "# Learning\n",
    "n_iter = 50\n",
    "mheuristic.solve(\n",
    "    n_iter, verbose=3, log=2, log_path=log_path,\n",
    "    test_elite=True\n",
    ")\n"
   ]
  },
  {
   "cell_type": "markdown",
   "metadata": {},
   "source": [
    "GP Evolution"
   ]
  },
  {
   "cell_type": "code",
   "execution_count": 16,
   "metadata": {},
   "outputs": [],
   "source": [
    "# Open log file\n",
    "rows = []\n",
    "with open(log_path, 'r') as file:\n",
    "    # Create a CSV reader object\n",
    "    csv_reader = csv.reader(file)\n",
    "    # Iterate over each row in the CSV file\n",
    "    for row in csv_reader:\n",
    "        # Process each row (each row is a list of values)\n",
    "        rows.append(row)\n",
    "\n",
    "# Fitness history\n",
    "history_fits = [float(row[7].split('(')[1].split(')')[0]) for row in rows]\n",
    "\n",
    "# Val fitness history\n",
    "history_val_fits = [float(row[9].split('(')[1].split(')')[0]) for row in rows]\n",
    "\n",
    "# Solution size history\n",
    "history_sizes = [int(row[6]) for row in rows]\n",
    "\n",
    "# Runtime\n",
    "history_timing = [float(row[5]) for row in rows]"
   ]
  },
  {
   "cell_type": "code",
   "execution_count": 17,
   "metadata": {},
   "outputs": [
    {
     "data": {
      "image/png": "[encoded data removed]",
      "text/plain": [
       "<Figure size 1200x600 with 1 Axes>"
      ]
     },
     "metadata": {},
     "output_type": "display_data"
    },
    {
     "name": "stdout",
     "output_type": "stream",
     "text": [
      "Best solution RMSE fitness: 0.0611 train, 0.0724 test.\n",
      "\n"
     ]
    }
   ],
   "source": [
    "plt.figure(figsize=(12, 6))\n",
    "\n",
    "plt.plot(history_fits, label='Train')\n",
    "plt.plot(history_val_fits, label='Test')\n",
    "plt.title('Fitness evolution')\n",
    "plt.xlabel('Generation')\n",
    "plt.ylabel('RMSE')\n",
    "plt.ylim(bottom=0)\n",
    "plt.legend()\n",
    "plt.show()\n",
    "\n",
    "print('Best solution RMSE fitness: {:.4f} train, {:.4f} test.\\n'.format(mheuristic.best_sol.fit.item(), mheuristic.best_sol.test_fit.item()))\n"
   ]
  },
  {
   "cell_type": "code",
   "execution_count": 18,
   "metadata": {},
   "outputs": [
    {
     "data": {
      "image/png": "[encoded data removed]",
      "text/plain": [
       "<Figure size 1200x600 with 1 Axes>"
      ]
     },
     "metadata": {},
     "output_type": "display_data"
    }
   ],
   "source": [
    "plt.figure(figsize=(12, 6))\n",
    "\n",
    "plt.plot(history_sizes)\n",
    "plt.title('Solution size evolution')\n",
    "plt.xlabel('Generation')\n",
    "plt.ylabel('Size')\n",
    "plt.ylim(bottom=0)\n",
    "plt.show()\n"
   ]
  },
  {
   "cell_type": "code",
   "execution_count": 19,
   "metadata": {},
   "outputs": [
    {
     "data": {
      "image/png": "[encoded data removed]",
      "text/plain": [
       "<Figure size 1200x600 with 1 Axes>"
      ]
     },
     "metadata": {},
     "output_type": "display_data"
    },
    {
     "name": "stdout",
     "output_type": "stream",
     "text": [
      "Total time: 0.19 minutes.\n",
      "\n"
     ]
    }
   ],
   "source": [
    "plt.figure(figsize=(12, 6))\n",
    "\n",
    "plt.plot(history_timing)\n",
    "plt.title('Running time evolution')\n",
    "plt.xlabel('Generation')\n",
    "plt.ylabel('Seconds')\n",
    "plt.ylim(bottom=0)\n",
    "plt.show()\n",
    "\n",
    "print('Total time: {:.2f} minutes.\\n'.format(sum(history_timing)/60.))\n"
   ]
  }
 ],
 "metadata": {
  "kernelspec": {
   "display_name": "Python 3 (ipykernel)",
   "language": "python",
   "name": "python3"
  },
  "language_info": {
   "codemirror_mode": {
    "name": "ipython",
    "version": 3
   },
   "file_extension": ".py",
   "mimetype": "text/x-python",
   "name": "python",
   "nbconvert_exporter": "python",
   "pygments_lexer": "ipython3",
   "version": "3.12.3"
  }
 },
 "nbformat": 4,
 "nbformat_minor": 4
}
